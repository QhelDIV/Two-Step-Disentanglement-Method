{
 "cells": [
  {
   "cell_type": "markdown",
   "metadata": {},
   "source": [
    "# Setup Code"
   ]
  },
  {
   "cell_type": "code",
   "execution_count": 120,
   "metadata": {},
   "outputs": [
    {
     "name": "stdout",
     "output_type": "stream",
     "text": [
      "The autoreload extension is already loaded. To reload it, use:\n",
      "  %reload_ext autoreload\n",
      "0.4.0\n",
      "using device: cuda\n",
      "VERBOSE== False\n"
     ]
    }
   ],
   "source": [
    "# some setup code\n",
    "import torch\n",
    "import torch.nn as nn\n",
    "import torch.nn.functional as F \n",
    "from torch.nn import init\n",
    "from torch.autograd import Variable\n",
    "import torchvision\n",
    "import torchvision.transforms as T\n",
    "import torch.optim as optim\n",
    "from torch.utils.data import DataLoader\n",
    "from torch.utils.data import sampler\n",
    "import torchvision.datasets as dset\n",
    "\n",
    "import numpy as np\n",
    "\n",
    "import matplotlib.pyplot as plt\n",
    "import matplotlib.gridspec as gridspec\n",
    "\n",
    "import layers\n",
    "import params\n",
    "from config import VERBOSE\n",
    "\n",
    "%matplotlib inline\n",
    "# for auto-reloading external modules\n",
    "# see http://stackoverflow.com/questions/1907993/autoreload-of-modules-in-ipython\n",
    "%load_ext autoreload\n",
    "%autoreload 2\n",
    "\n",
    "plt.rcParams['figure.figsize'] = (10.0, 8.0) # set default size of plots\n",
    "plt.rcParams['image.interpolation'] = 'nearest'\n",
    "plt.rcParams['image.cmap'] = 'gray'\n",
    "\n",
    "def show_images(images):\n",
    "    images = np.reshape(images, [images.shape[0], -1])  # images reshape to (batch_size, D)\n",
    "    sqrtn = int(np.ceil(np.sqrt(images.shape[0])))\n",
    "    sqrtimg = int(np.ceil(np.sqrt(images.shape[1])))\n",
    "\n",
    "    fig = plt.figure(figsize=(sqrtn, sqrtn))\n",
    "    gs = gridspec.GridSpec(sqrtn, sqrtn)\n",
    "    gs.update(wspace=0.05, hspace=0.05)\n",
    "\n",
    "    for i, img in enumerate(images):\n",
    "        ax = plt.subplot(gs[i])\n",
    "        plt.axis('off')\n",
    "        ax.set_xticklabels([])\n",
    "        ax.set_yticklabels([])\n",
    "        ax.set_aspect('equal')\n",
    "        plt.imshow(img.reshape([sqrtimg,sqrtimg]))\n",
    "    return \n",
    "\n",
    "def preprocess_img(x):\n",
    "    return 2 * x - 1.0\n",
    "\n",
    "def deprocess_img(x):\n",
    "    return (x + 1.0) / 2.0\n",
    "\n",
    "def rel_error(x,y):\n",
    "    return np.max(np.abs(x - y) / (np.maximum(1e-8, np.abs(x) + np.abs(y))))\n",
    "\n",
    "def count_params(model):\n",
    "    \"\"\"Count the number of parameters in the current TensorFlow graph \"\"\"\n",
    "    param_count = np.sum([np.prod(p.size()) for p in model.parameters()])\n",
    "    return param_count\n",
    "\n",
    "USE_GPU = True\n",
    "print(torch.__version__)\n",
    "dtype = torch.float32 # we will be using float throughout this tutorial\n",
    "\n",
    "if USE_GPU and torch.cuda.is_available():\n",
    "    device = torch.device('cuda')\n",
    "else:\n",
    "    device = torch.device('cpu')\n",
    "\n",
    "# Constant to control how frequently we print train loss\n",
    "print_every = 100\n",
    "\n",
    "print('using device:', device)\n",
    "print('VERBOSE==',VERBOSE)\n",
    "\n",
    "img_size = params.img_size\n",
    "img_channel = params.img_channel\n"
   ]
  },
  {
   "cell_type": "markdown",
   "metadata": {},
   "source": [
    "# Data Loading"
   ]
  },
  {
   "cell_type": "code",
   "execution_count": 12,
   "metadata": {
    "collapsed": true
   },
   "outputs": [],
   "source": [
    "class ChunkSampler(sampler.Sampler):\n",
    "    \"\"\"Samples elements sequentially from some offset. \n",
    "    Arguments:\n",
    "        num_samples: # of desired datapoints\n",
    "        start: offset where we should start selecting from\n",
    "    \"\"\"\n",
    "    def __init__(self, num_samples, start=0):\n",
    "        self.num_samples = num_samples\n",
    "        self.start = start\n",
    "\n",
    "    def __iter__(self):\n",
    "        return iter(range(self.start, self.start + self.num_samples))\n",
    "\n",
    "    def __len__(self):\n",
    "        return self.num_samples\n",
    "\n",
    "NUM_TRAIN = 50000\n",
    "NUM_VAL = 5000\n",
    "NUM_TEST= 5000\n",
    "\n",
    "NOISE_DIM = 96\n",
    "batch_size = 128\n",
    "\n",
    "mnist_train = dset.MNIST('./datasets/MNIST_data', train=True, download=False,\n",
    "                           transform=T.ToTensor())\n",
    "loader_train = DataLoader(mnist_train, batch_size=batch_size,\n",
    "                          sampler=ChunkSampler(NUM_TRAIN, 0))\n",
    "\n",
    "mnist_val = dset.MNIST('./datasets/MNIST_data', train=True, download=False,\n",
    "                           transform=T.ToTensor())\n",
    "loader_val = DataLoader(mnist_val, batch_size=batch_size,\n",
    "                        sampler=ChunkSampler(NUM_VAL, NUM_TRAIN))\n",
    "\n",
    "mnist_test = dset.MNIST('./datasets/MNIST_data', train=False, download=False,\n",
    "                           transform=T.ToTensor())\n",
    "loader_test = DataLoader(mnist_test, batch_size=batch_size,\n",
    "                        sampler=ChunkSampler(NUM_TEST,0))\n",
    "\n",
    "imgs = loader_test.__iter__().next()[0].view(batch_size, 784).numpy().squeeze()\n",
    "#show_images(imgs)"
   ]
  },
  {
   "cell_type": "code",
   "execution_count": null,
   "metadata": {
    "collapsed": true
   },
   "outputs": [],
   "source": []
  },
  {
   "cell_type": "markdown",
   "metadata": {},
   "source": [
    "# Network Architecture"
   ]
  },
  {
   "cell_type": "code",
   "execution_count": 13,
   "metadata": {
    "collapsed": true
   },
   "outputs": [],
   "source": [
    "def Encoder(img_size, in_channel, conv_channel, filter_size, latent_dim, dense_size, bn):\n",
    "    inner_conv_channel = conv_channel//2\n",
    "    if img_size%4 != 0:\n",
    "        print(\"WARNING: image size mod 4 != 0, may produce bug.\")\n",
    "    # total input number of the input of the last conv layer, new image size = old / 2 / 2 \n",
    "    flatten_img_size = inner_conv_channel * img_size/4 * img_size/4\n",
    "    \n",
    "    # explain: first two layer's padding = 2, because we set W/S = W/S + floor((-F+2P)/S+1), S=2,F=5,so P=2\n",
    "    if VERBOSE:\n",
    "        print(img_size, in_channel, conv_channel, filter_size, latent_dim, bn)\n",
    "    model = nn.Sequential(\n",
    "        layers.ConvLayer(in_channel,        conv_channel,       filter_size, stride=2, padding = 2, bn=bn),\n",
    "        layers.ConvLayer(conv_channel,      inner_conv_channel, filter_size, stride=2, padding = 2, bn=bn),\n",
    "        layers.ConvLayer(inner_conv_channel,inner_conv_channel, filter_size, stride=1, padding = 2, bn=bn),\n",
    "        layers.Flatten(),\n",
    "        layers.Dense(flatten_img_size, dense_size),\n",
    "        layers.Dense(dense_size,       latent_dim)\n",
    "    )\n",
    "    return model\n",
    "def Classifier(input_dim, dense_size, s_classes, bn):\n",
    "    \n",
    "    model = nn.Sequential(\n",
    "        layers.Dense(input_dim,  dense_size, bn=bn),\n",
    "        layers.Dense(dense_size, dense_size, bn=bn),\n",
    "        layers.Dense(dense_size, s_classes,  bn=bn)\n",
    "    )\n",
    "    return model\n",
    "def Decoder(s_dim, z_dim, img_size, img_channel, conv_channel, filter_size, dense_size, bn):\n",
    "    # TODO\n",
    "    # essentially the mirror version of Encoder\n",
    "    inner_conv_channel = conv_channel//2\n",
    "    back_img_size = img_size//4\n",
    "    flatten_img_size = inner_conv_channel * back_img_size * back_img_size\n",
    "    \n",
    "    input_dim = s_dim + z_dim\n",
    "    \n",
    "    pad = int(np.floor(filter_size/2)) # chose pad this way to fullfill floor((-F+2P)/1+1)==0\n",
    "    \n",
    "    model = nn.Sequential(\n",
    "        layers.Dense(input_dim, dense_size),\n",
    "        layers.Dense(dense_size, inner_conv_channel*back_img_size*back_img_size),\n",
    "        layers.Reshape((-1, inner_conv_channel, back_img_size, back_img_size)),\n",
    "        layers.ConvLayer(inner_conv_channel,    inner_conv_channel, filter_size, stride=1, padding=pad, bn=bn, upsampling=True),\n",
    "        layers.ConvLayer(inner_conv_channel,    conv_channel, filter_size, stride=1, padding=pad, bn=bn, upsampling=True),\n",
    "        layers.ConvLayer(conv_channel,    img_channel,       filter_size, stride=1, padding=pad, bn=bn, upsampling=False),\n",
    "    )\n",
    "    return model\n",
    "def AdvLayer(input_dim, dense_size, s_classes, bn):\n",
    "    # same structure as Classifier\n",
    "    return Classifier(input_dim, dense_size, s_classes, bn)"
   ]
  },
  {
   "cell_type": "code",
   "execution_count": 14,
   "metadata": {},
   "outputs": [
    {
     "name": "stdout",
     "output_type": "stream",
     "text": [
      "torch.Size([64, 16])\n",
      "\n",
      "torch.Size([64, 16])\n",
      "\n",
      "torch.Size([64, 10])\n",
      "\n",
      "torch.Size([64, 1, 28, 28])\n",
      "\n"
     ]
    },
    {
     "name": "stderr",
     "output_type": "stream",
     "text": [
      "/home/qheldiv/anaconda3/lib/python3.6/site-packages/torch/nn/functional.py:1749: UserWarning: Default upsampling behavior when mode=bilinear is changed to align_corners=False since 0.4.0. Please specify align_corners=True if the old behavior is desired. See the documentation of nn.Upsample for details.\n",
      "  \"See the documentation of nn.Upsample for details.\".format(mode))\n"
     ]
    }
   ],
   "source": [
    "def S_Encoder():\n",
    "    conv_channel= params.enc_conv_channel\n",
    "    filter_size = params.enc_conv_filter_size\n",
    "    in_channel  = img_channel\n",
    "    dense_size  = params.encdec_dense_size\n",
    "    bn = params.s_enc_bn\n",
    "    latent_dim = params.s_enc_dim\n",
    "    \n",
    "    model = Encoder(img_size, in_channel, conv_channel, filter_size, latent_dim, dense_size, bn)\n",
    "    return model\n",
    "def Z_Encoder():\n",
    "    conv_channel= params.enc_conv_channel\n",
    "    filter_size = params.enc_conv_filter_size\n",
    "    in_channel  = img_channel\n",
    "    dense_size  = params.encdec_dense_size\n",
    "    bn = params.z_enc_bn\n",
    "    latent_dim = params.z_enc_dim\n",
    "    \n",
    "    model = Encoder(img_size, in_channel, conv_channel, filter_size, latent_dim, dense_size, bn)\n",
    "    return model\n",
    "def S_Classifier():\n",
    "    input_dim   = params.s_enc_dim\n",
    "    dense_size  = params.classifier_dense_size\n",
    "    classes_num = params.classes_num\n",
    "    bn          = params.classifier_use_bn\n",
    "    \n",
    "    model = Classifier(input_dim, dense_size, classes_num, bn)\n",
    "    return model\n",
    "def z_AdvLayer():\n",
    "    input_dim   = params.z_enc_dim\n",
    "    dense_size  = params.classifier_dense_size\n",
    "    classes_num = params.classes_num\n",
    "    bn          = params.classifier_use_bn\n",
    "    \n",
    "    model = AdvLayer(input_dim, dense_size, classes_num, bn)\n",
    "    return model\n",
    "    return S_Classifier()\n",
    "def SZ_Decoder():\n",
    "    s_dim = params.s_enc_dim\n",
    "    z_dim = params.z_enc_dim\n",
    "    conv_channel = params.dec_conv_channel\n",
    "    filter_size  = params.dec_conv_filter_size\n",
    "    dense_size  = params.encdec_dense_size\n",
    "    bn           = params.dec_use_bn\n",
    "    return Decoder(s_dim, z_dim, img_size, img_channel, conv_channel, filter_size, dense_size, bn)\n",
    "\n",
    "def test_Encoder(model):\n",
    "    x = torch.zeros((64, img_channel, img_size, img_size), dtype=dtype)\n",
    "    scores = model(x)\n",
    "    print(scores.size())  # you should see [64, latent_dim]\n",
    "    print()\n",
    "def test_classifier(model):\n",
    "    x = torch.zeros((64, params.s_enc_dim), dtype=dtype)\n",
    "    scores = model(x)\n",
    "    print(scores.size())  # should see [64,classes_num]\n",
    "    print()\n",
    "def test_Decoder(model):\n",
    "    x = torch.zeros((64, params.s_enc_dim + params.z_enc_dim), dtype=dtype)\n",
    "    scores = model(x)\n",
    "    print(scores.size())  # should see [64,classes_num]\n",
    "    print()\n",
    "\n",
    "s_enc_bn = params.s_enc_bn\n",
    "#test S encoder\n",
    "test_Encoder(S_Encoder())\n",
    "#test z encoder\n",
    "test_Encoder(Z_Encoder())\n",
    "#test s classifier\n",
    "test_classifier(S_Classifier())\n",
    "#test decoder\n",
    "test_Decoder(SZ_Decoder())"
   ]
  },
  {
   "cell_type": "code",
   "execution_count": 15,
   "metadata": {
    "collapsed": true
   },
   "outputs": [],
   "source": [
    "def check_accuracy(loader, model):\n",
    "    if loader.dataset.train:\n",
    "        print('Checking accuracy on validation set')\n",
    "    else:\n",
    "        print('Checking accuracy on test set')   \n",
    "    num_correct = 0\n",
    "    num_samples = 0\n",
    "    model.eval()  # set model to evaluation mode\n",
    "    with torch.no_grad():\n",
    "        for x, y in loader:\n",
    "            x = x.to(device=device, dtype=dtype)  # move to device, e.g. GPU\n",
    "            y = y.to(device=device, dtype=torch.long)\n",
    "            scores = model(x)\n",
    "            _, preds = scores.max(1)\n",
    "            num_correct += (preds == y).sum()\n",
    "            num_samples += preds.size(0)\n",
    "        acc = float(num_correct) / num_samples\n",
    "        print('Got %d / %d correct (%.2f)' % (num_correct, num_samples, 100 * acc))"
   ]
  },
  {
   "cell_type": "code",
   "execution_count": 16,
   "metadata": {
    "collapsed": true
   },
   "outputs": [],
   "source": [
    "def train_classifier(model, optimizer, epochs=1):\n",
    "    \"\"\"\n",
    "    Train Enc-Classifier on MNIST .\n",
    "    \n",
    "    Inputs:\n",
    "    - model: the enc-classifier \n",
    "    - optimizer: An Optimizer object we will use to train the model\n",
    "    - epochs: (Optional) A Python integer giving the number of epochs to train for\n",
    "    \n",
    "    Returns: Nothing, but prints model accuracies during training.\n",
    "    \"\"\"\n",
    "    print_every = 100\n",
    "    model = model.to(device=device) # move the model parameters to device\n",
    "    for epoch in range(epochs):\n",
    "        for it, (x,y) in enumerate(loader_train):\n",
    "            model.train()\n",
    "            x = x.to(device = device, dtype=dtype)\n",
    "            y = y.to(device = device, dtype=torch.long) # QUESTION!!\n",
    "            \n",
    "            scores = model(x)\n",
    "            loss = F.cross_entropy(scores, y)\n",
    "            \n",
    "            optimizer.zero_grad()\n",
    "            \n",
    "            loss.backward()\n",
    "            \n",
    "            optimizer.step()\n",
    "            \n",
    "            if it % print_every == 0:\n",
    "                print('iteration %d, loss = %.4f' % (it,loss.item()))\n",
    "                check_accuracy(loader_val, model)\n",
    "                print()\n",
    "            "
   ]
  },
  {
   "cell_type": "code",
   "execution_count": 17,
   "metadata": {},
   "outputs": [
    {
     "name": "stdout",
     "output_type": "stream",
     "text": [
      "iteration 0, loss = 2.3808\n",
      "Checking accuracy on validation set\n",
      "Got 502 / 5000 correct (10.04)\n",
      "\n",
      "iteration 100, loss = 0.2966\n",
      "Checking accuracy on validation set\n",
      "Got 4366 / 5000 correct (87.32)\n",
      "\n",
      "iteration 200, loss = 0.1868\n",
      "Checking accuracy on validation set\n",
      "Got 4448 / 5000 correct (88.96)\n",
      "\n",
      "iteration 300, loss = 0.0941\n",
      "Checking accuracy on validation set\n",
      "Got 4781 / 5000 correct (95.62)\n",
      "\n",
      "iteration 0, loss = 0.0713\n",
      "Checking accuracy on validation set\n",
      "Got 4764 / 5000 correct (95.28)\n",
      "\n",
      "iteration 100, loss = 0.0526\n",
      "Checking accuracy on validation set\n",
      "Got 4603 / 5000 correct (92.06)\n",
      "\n",
      "iteration 200, loss = 0.1353\n",
      "Checking accuracy on validation set\n",
      "Got 4801 / 5000 correct (96.02)\n",
      "\n",
      "iteration 300, loss = 0.0572\n",
      "Checking accuracy on validation set\n",
      "Got 4835 / 5000 correct (96.70)\n",
      "\n",
      "iteration 0, loss = 0.0532\n",
      "Checking accuracy on validation set\n",
      "Got 4885 / 5000 correct (97.70)\n",
      "\n",
      "iteration 100, loss = 0.0267\n",
      "Checking accuracy on validation set\n",
      "Got 4811 / 5000 correct (96.22)\n",
      "\n",
      "iteration 200, loss = 0.1398\n",
      "Checking accuracy on validation set\n",
      "Got 4880 / 5000 correct (97.60)\n",
      "\n",
      "iteration 300, loss = 0.0726\n",
      "Checking accuracy on validation set\n",
      "Got 4907 / 5000 correct (98.14)\n",
      "\n",
      "iteration 0, loss = 0.0426\n",
      "Checking accuracy on validation set\n",
      "Got 4879 / 5000 correct (97.58)\n",
      "\n",
      "iteration 100, loss = 0.0604\n",
      "Checking accuracy on validation set\n",
      "Got 4871 / 5000 correct (97.42)\n",
      "\n",
      "iteration 200, loss = 0.0700\n",
      "Checking accuracy on validation set\n",
      "Got 4776 / 5000 correct (95.52)\n",
      "\n",
      "iteration 300, loss = 0.0936\n",
      "Checking accuracy on validation set\n",
      "Got 4885 / 5000 correct (97.70)\n",
      "\n",
      "iteration 0, loss = 0.0481\n",
      "Checking accuracy on validation set\n",
      "Got 4862 / 5000 correct (97.24)\n",
      "\n",
      "iteration 100, loss = 0.0303\n",
      "Checking accuracy on validation set\n",
      "Got 4911 / 5000 correct (98.22)\n",
      "\n",
      "iteration 200, loss = 0.0661\n",
      "Checking accuracy on validation set\n",
      "Got 4883 / 5000 correct (97.66)\n",
      "\n",
      "iteration 300, loss = 0.0818\n",
      "Checking accuracy on validation set\n",
      "Got 4858 / 5000 correct (97.16)\n",
      "\n",
      "iteration 0, loss = 0.0120\n",
      "Checking accuracy on validation set\n",
      "Got 4887 / 5000 correct (97.74)\n",
      "\n",
      "iteration 100, loss = 0.0497\n",
      "Checking accuracy on validation set\n",
      "Got 4924 / 5000 correct (98.48)\n",
      "\n",
      "iteration 200, loss = 0.0674\n",
      "Checking accuracy on validation set\n",
      "Got 4828 / 5000 correct (96.56)\n",
      "\n",
      "iteration 300, loss = 0.0539\n",
      "Checking accuracy on validation set\n",
      "Got 4904 / 5000 correct (98.08)\n",
      "\n",
      "iteration 0, loss = 0.0163\n",
      "Checking accuracy on validation set\n",
      "Got 4915 / 5000 correct (98.30)\n",
      "\n",
      "iteration 100, loss = 0.0103\n",
      "Checking accuracy on validation set\n",
      "Got 4889 / 5000 correct (97.78)\n",
      "\n",
      "iteration 200, loss = 0.0489\n",
      "Checking accuracy on validation set\n",
      "Got 4852 / 5000 correct (97.04)\n",
      "\n",
      "iteration 300, loss = 0.0616\n",
      "Checking accuracy on validation set\n",
      "Got 4908 / 5000 correct (98.16)\n",
      "\n",
      "iteration 0, loss = 0.0091\n",
      "Checking accuracy on validation set\n",
      "Got 4924 / 5000 correct (98.48)\n",
      "\n",
      "iteration 100, loss = 0.0081\n",
      "Checking accuracy on validation set\n",
      "Got 4920 / 5000 correct (98.40)\n",
      "\n",
      "iteration 200, loss = 0.0679\n",
      "Checking accuracy on validation set\n",
      "Got 4856 / 5000 correct (97.12)\n",
      "\n",
      "iteration 300, loss = 0.0420\n",
      "Checking accuracy on validation set\n",
      "Got 4905 / 5000 correct (98.10)\n",
      "\n"
     ]
    }
   ],
   "source": [
    "s_encoder = S_Encoder()\n",
    "s_classifier = nn.Sequential(\n",
    "    s_encoder,\n",
    "    S_Classifier()\n",
    ")\n",
    "learning_rate = 0.03\n",
    "optimizer = optim.Adam(s_classifier.parameters(), lr=learning_rate, betas=(0.1,0.9))\n",
    "train_classifier(s_classifier, optimizer, 8)"
   ]
  },
  {
   "cell_type": "code",
   "execution_count": 9,
   "metadata": {},
   "outputs": [
    {
     "name": "stdout",
     "output_type": "stream",
     "text": [
      "Checking accuracy on test set\n",
      "Got 4889 / 5000 correct (97.78)\n"
     ]
    }
   ],
   "source": [
    "# test accuray and save the model\n",
    "check_accuracy(loader_test, s_classifier)\n",
    "\n",
    "torch.save(s_encoder, \"./saved_models/S_encoder\")\n",
    "layers.set_trainable(s_encoder, False)"
   ]
  },
  {
   "cell_type": "code",
   "execution_count": 10,
   "metadata": {
    "collapsed": true
   },
   "outputs": [],
   "source": [
    "def get_optimizer(model):\n",
    "    optimizer = optim.Adam( filter(lambda p: p.requires_grad, model.parameters() ), lr=1e-4, betas=(0.5,0.999))\n",
    "    #optimizer = optim.Adam( model.parameters(), lr=1e-4, betas=(0.5,0.999))\n",
    "    return optimizer"
   ]
  },
  {
   "cell_type": "code",
   "execution_count": 11,
   "metadata": {},
   "outputs": [
    {
     "name": "stderr",
     "output_type": "stream",
     "text": [
      "/home/qheldiv/anaconda3/lib/python3.6/site-packages/torch/nn/functional.py:1749: UserWarning: Default upsampling behavior when mode=bilinear is changed to align_corners=False since 0.4.0. Please specify align_corners=True if the old behavior is desired. See the documentation of nn.Upsample for details.\n",
      "  \"See the documentation of nn.Upsample for details.\".format(mode))\n"
     ]
    },
    {
     "name": "stdout",
     "output_type": "stream",
     "text": [
      "Iteration 0, loss = 32824.6953\n",
      "\n",
      "Iteration 100, loss = 12554.9307\n",
      "\n",
      "Iteration 0, loss = 11196.7812\n",
      "\n",
      "Iteration 100, loss = 10369.3809\n",
      "\n",
      "Iteration 0, loss = 10365.7686\n",
      "\n",
      "Iteration 100, loss = 9907.6416\n",
      "\n",
      "Iteration 0, loss = 9990.0625\n",
      "\n",
      "Iteration 100, loss = 9662.8330\n",
      "\n",
      "Iteration 0, loss = 9751.9150\n",
      "\n",
      "Iteration 100, loss = 9499.6621\n",
      "\n",
      "Iteration 0, loss = 9585.5361\n",
      "\n",
      "Iteration 100, loss = 9372.1426\n",
      "\n",
      "Iteration 0, loss = 9454.0576\n",
      "\n",
      "Iteration 100, loss = 9271.8174\n",
      "\n",
      "Iteration 0, loss = 9344.3125\n",
      "\n",
      "Iteration 100, loss = 9191.7588\n",
      "\n",
      "Iteration 0, loss = 9255.0840\n",
      "\n",
      "Iteration 100, loss = 9129.6025\n",
      "\n",
      "Iteration 0, loss = 9182.3301\n",
      "\n",
      "Iteration 100, loss = 9071.0479\n",
      "\n",
      "Iteration 0, loss = 9113.5879\n",
      "\n",
      "Iteration 100, loss = 9022.0225\n",
      "\n",
      "Iteration 0, loss = 9053.6123\n",
      "\n",
      "Iteration 100, loss = 8978.7598\n",
      "\n",
      "Iteration 0, loss = 8997.1611\n",
      "\n",
      "Iteration 100, loss = 8940.7129\n",
      "\n",
      "Iteration 0, loss = 8950.7129\n",
      "\n",
      "Iteration 100, loss = 8905.6943\n",
      "\n",
      "Iteration 0, loss = 8907.2451\n",
      "\n",
      "Iteration 100, loss = 8876.1055\n",
      "\n",
      "Iteration 0, loss = 8866.5557\n",
      "\n",
      "Iteration 100, loss = 8848.8613\n",
      "\n",
      "Iteration 0, loss = 8831.1064\n",
      "\n",
      "Iteration 100, loss = 8824.3242\n",
      "\n",
      "Iteration 0, loss = 8796.9336\n",
      "\n",
      "Iteration 100, loss = 8801.8467\n",
      "\n",
      "Iteration 0, loss = 8764.7070\n",
      "\n",
      "Iteration 100, loss = 8778.9307\n",
      "\n",
      "Iteration 0, loss = 8736.7129\n",
      "\n",
      "Iteration 100, loss = 8759.9180\n",
      "\n",
      "Iteration 0, loss = 8710.3193\n",
      "\n",
      "Iteration 100, loss = 8743.0381\n",
      "\n",
      "Iteration 0, loss = 8685.5547\n",
      "\n",
      "Iteration 100, loss = 8725.7480\n",
      "\n",
      "Iteration 0, loss = 8662.8506\n",
      "\n",
      "Iteration 100, loss = 8710.3408\n",
      "\n",
      "Iteration 0, loss = 8640.4316\n",
      "\n",
      "Iteration 100, loss = 8695.2246\n",
      "\n",
      "Iteration 0, loss = 8619.2031\n",
      "\n"
     ]
    },
    {
     "ename": "KeyboardInterrupt",
     "evalue": "",
     "output_type": "error",
     "traceback": [
      "\u001b[0;31m---------------------------------------------------------------------------\u001b[0m",
      "\u001b[0;31mKeyboardInterrupt\u001b[0m                         Traceback (most recent call last)",
      "\u001b[0;32m<ipython-input-11-45690e1352db>\u001b[0m in \u001b[0;36m<module>\u001b[0;34m()\u001b[0m\n\u001b[1;32m     29\u001b[0m \u001b[0mmodelDecTest\u001b[0m \u001b[0;34m=\u001b[0m \u001b[0mlayers\u001b[0m\u001b[0;34m.\u001b[0m\u001b[0mDecoderTest\u001b[0m\u001b[0;34m(\u001b[0m\u001b[0ms_encoder\u001b[0m\u001b[0;34m,\u001b[0m \u001b[0mSZ_Decoder\u001b[0m\u001b[0;34m(\u001b[0m\u001b[0;34m)\u001b[0m\u001b[0;34m)\u001b[0m\u001b[0;34m\u001b[0m\u001b[0m\n\u001b[1;32m     30\u001b[0m \u001b[0moptimizerDecTest\u001b[0m \u001b[0;34m=\u001b[0m \u001b[0mget_optimizer\u001b[0m\u001b[0;34m(\u001b[0m\u001b[0mmodelDecTest\u001b[0m\u001b[0;34m)\u001b[0m\u001b[0;34m\u001b[0m\u001b[0m\n\u001b[0;32m---> 31\u001b[0;31m \u001b[0mfull_test_Decoder\u001b[0m\u001b[0;34m(\u001b[0m\u001b[0mmodelDecTest\u001b[0m\u001b[0;34m,\u001b[0m\u001b[0moptimizerDecTest\u001b[0m\u001b[0;34m,\u001b[0m\u001b[0;36m50\u001b[0m\u001b[0;34m)\u001b[0m\u001b[0;34m\u001b[0m\u001b[0m\n\u001b[0m",
      "\u001b[0;32m<ipython-input-11-45690e1352db>\u001b[0m in \u001b[0;36mfull_test_Decoder\u001b[0;34m(model, optimizer, epochs)\u001b[0m\n\u001b[1;32m      2\u001b[0m     \u001b[0mmodel\u001b[0m \u001b[0;34m=\u001b[0m \u001b[0mmodel\u001b[0m\u001b[0;34m.\u001b[0m\u001b[0mto\u001b[0m\u001b[0;34m(\u001b[0m\u001b[0mdevice\u001b[0m\u001b[0;34m=\u001b[0m\u001b[0mdevice\u001b[0m\u001b[0;34m)\u001b[0m  \u001b[0;31m# move the model parameters to CPU/GPU\u001b[0m\u001b[0;34m\u001b[0m\u001b[0m\n\u001b[1;32m      3\u001b[0m     \u001b[0;32mfor\u001b[0m \u001b[0me\u001b[0m \u001b[0;32min\u001b[0m \u001b[0mrange\u001b[0m\u001b[0;34m(\u001b[0m\u001b[0mepochs\u001b[0m\u001b[0;34m)\u001b[0m\u001b[0;34m:\u001b[0m\u001b[0;34m\u001b[0m\u001b[0m\n\u001b[0;32m----> 4\u001b[0;31m         \u001b[0;32mfor\u001b[0m \u001b[0mt\u001b[0m\u001b[0;34m,\u001b[0m \u001b[0;34m(\u001b[0m\u001b[0mx\u001b[0m\u001b[0;34m,\u001b[0m \u001b[0m_\u001b[0m\u001b[0;34m)\u001b[0m \u001b[0;32min\u001b[0m \u001b[0menumerate\u001b[0m\u001b[0;34m(\u001b[0m\u001b[0mloader_train\u001b[0m\u001b[0;34m)\u001b[0m\u001b[0;34m:\u001b[0m\u001b[0;34m\u001b[0m\u001b[0m\n\u001b[0m\u001b[1;32m      5\u001b[0m             \u001b[0mmodel\u001b[0m\u001b[0;34m.\u001b[0m\u001b[0mtrain\u001b[0m\u001b[0;34m(\u001b[0m\u001b[0;34m)\u001b[0m  \u001b[0;31m# put model to training mode\u001b[0m\u001b[0;34m\u001b[0m\u001b[0m\n\u001b[1;32m      6\u001b[0m             \u001b[0my\u001b[0m \u001b[0;34m=\u001b[0m \u001b[0mx\u001b[0m\u001b[0;34m.\u001b[0m\u001b[0mclone\u001b[0m\u001b[0;34m(\u001b[0m\u001b[0;34m)\u001b[0m\u001b[0;34m\u001b[0m\u001b[0m\n",
      "\u001b[0;32m~/anaconda3/lib/python3.6/site-packages/torch/utils/data/dataloader.py\u001b[0m in \u001b[0;36m__next__\u001b[0;34m(self)\u001b[0m\n\u001b[1;32m    262\u001b[0m         \u001b[0;32mif\u001b[0m \u001b[0mself\u001b[0m\u001b[0;34m.\u001b[0m\u001b[0mnum_workers\u001b[0m \u001b[0;34m==\u001b[0m \u001b[0;36m0\u001b[0m\u001b[0;34m:\u001b[0m  \u001b[0;31m# same-process loading\u001b[0m\u001b[0;34m\u001b[0m\u001b[0m\n\u001b[1;32m    263\u001b[0m             \u001b[0mindices\u001b[0m \u001b[0;34m=\u001b[0m \u001b[0mnext\u001b[0m\u001b[0;34m(\u001b[0m\u001b[0mself\u001b[0m\u001b[0;34m.\u001b[0m\u001b[0msample_iter\u001b[0m\u001b[0;34m)\u001b[0m  \u001b[0;31m# may raise StopIteration\u001b[0m\u001b[0;34m\u001b[0m\u001b[0m\n\u001b[0;32m--> 264\u001b[0;31m             \u001b[0mbatch\u001b[0m \u001b[0;34m=\u001b[0m \u001b[0mself\u001b[0m\u001b[0;34m.\u001b[0m\u001b[0mcollate_fn\u001b[0m\u001b[0;34m(\u001b[0m\u001b[0;34m[\u001b[0m\u001b[0mself\u001b[0m\u001b[0;34m.\u001b[0m\u001b[0mdataset\u001b[0m\u001b[0;34m[\u001b[0m\u001b[0mi\u001b[0m\u001b[0;34m]\u001b[0m \u001b[0;32mfor\u001b[0m \u001b[0mi\u001b[0m \u001b[0;32min\u001b[0m \u001b[0mindices\u001b[0m\u001b[0;34m]\u001b[0m\u001b[0;34m)\u001b[0m\u001b[0;34m\u001b[0m\u001b[0m\n\u001b[0m\u001b[1;32m    265\u001b[0m             \u001b[0;32mif\u001b[0m \u001b[0mself\u001b[0m\u001b[0;34m.\u001b[0m\u001b[0mpin_memory\u001b[0m\u001b[0;34m:\u001b[0m\u001b[0;34m\u001b[0m\u001b[0m\n\u001b[1;32m    266\u001b[0m                 \u001b[0mbatch\u001b[0m \u001b[0;34m=\u001b[0m \u001b[0mpin_memory_batch\u001b[0m\u001b[0;34m(\u001b[0m\u001b[0mbatch\u001b[0m\u001b[0;34m)\u001b[0m\u001b[0;34m\u001b[0m\u001b[0m\n",
      "\u001b[0;32m~/anaconda3/lib/python3.6/site-packages/torch/utils/data/dataloader.py\u001b[0m in \u001b[0;36m<listcomp>\u001b[0;34m(.0)\u001b[0m\n\u001b[1;32m    262\u001b[0m         \u001b[0;32mif\u001b[0m \u001b[0mself\u001b[0m\u001b[0;34m.\u001b[0m\u001b[0mnum_workers\u001b[0m \u001b[0;34m==\u001b[0m \u001b[0;36m0\u001b[0m\u001b[0;34m:\u001b[0m  \u001b[0;31m# same-process loading\u001b[0m\u001b[0;34m\u001b[0m\u001b[0m\n\u001b[1;32m    263\u001b[0m             \u001b[0mindices\u001b[0m \u001b[0;34m=\u001b[0m \u001b[0mnext\u001b[0m\u001b[0;34m(\u001b[0m\u001b[0mself\u001b[0m\u001b[0;34m.\u001b[0m\u001b[0msample_iter\u001b[0m\u001b[0;34m)\u001b[0m  \u001b[0;31m# may raise StopIteration\u001b[0m\u001b[0;34m\u001b[0m\u001b[0m\n\u001b[0;32m--> 264\u001b[0;31m             \u001b[0mbatch\u001b[0m \u001b[0;34m=\u001b[0m \u001b[0mself\u001b[0m\u001b[0;34m.\u001b[0m\u001b[0mcollate_fn\u001b[0m\u001b[0;34m(\u001b[0m\u001b[0;34m[\u001b[0m\u001b[0mself\u001b[0m\u001b[0;34m.\u001b[0m\u001b[0mdataset\u001b[0m\u001b[0;34m[\u001b[0m\u001b[0mi\u001b[0m\u001b[0;34m]\u001b[0m \u001b[0;32mfor\u001b[0m \u001b[0mi\u001b[0m \u001b[0;32min\u001b[0m \u001b[0mindices\u001b[0m\u001b[0;34m]\u001b[0m\u001b[0;34m)\u001b[0m\u001b[0;34m\u001b[0m\u001b[0m\n\u001b[0m\u001b[1;32m    265\u001b[0m             \u001b[0;32mif\u001b[0m \u001b[0mself\u001b[0m\u001b[0;34m.\u001b[0m\u001b[0mpin_memory\u001b[0m\u001b[0;34m:\u001b[0m\u001b[0;34m\u001b[0m\u001b[0m\n\u001b[1;32m    266\u001b[0m                 \u001b[0mbatch\u001b[0m \u001b[0;34m=\u001b[0m \u001b[0mpin_memory_batch\u001b[0m\u001b[0;34m(\u001b[0m\u001b[0mbatch\u001b[0m\u001b[0;34m)\u001b[0m\u001b[0;34m\u001b[0m\u001b[0m\n",
      "\u001b[0;32m~/anaconda3/lib/python3.6/site-packages/torchvision-0.2.1-py3.6.egg/torchvision/datasets/mnist.py\u001b[0m in \u001b[0;36m__getitem__\u001b[0;34m(self, index)\u001b[0m\n\u001b[1;32m     75\u001b[0m \u001b[0;34m\u001b[0m\u001b[0m\n\u001b[1;32m     76\u001b[0m         \u001b[0;32mif\u001b[0m \u001b[0mself\u001b[0m\u001b[0;34m.\u001b[0m\u001b[0mtransform\u001b[0m \u001b[0;32mis\u001b[0m \u001b[0;32mnot\u001b[0m \u001b[0;32mNone\u001b[0m\u001b[0;34m:\u001b[0m\u001b[0;34m\u001b[0m\u001b[0m\n\u001b[0;32m---> 77\u001b[0;31m             \u001b[0mimg\u001b[0m \u001b[0;34m=\u001b[0m \u001b[0mself\u001b[0m\u001b[0;34m.\u001b[0m\u001b[0mtransform\u001b[0m\u001b[0;34m(\u001b[0m\u001b[0mimg\u001b[0m\u001b[0;34m)\u001b[0m\u001b[0;34m\u001b[0m\u001b[0m\n\u001b[0m\u001b[1;32m     78\u001b[0m \u001b[0;34m\u001b[0m\u001b[0m\n\u001b[1;32m     79\u001b[0m         \u001b[0;32mif\u001b[0m \u001b[0mself\u001b[0m\u001b[0;34m.\u001b[0m\u001b[0mtarget_transform\u001b[0m \u001b[0;32mis\u001b[0m \u001b[0;32mnot\u001b[0m \u001b[0;32mNone\u001b[0m\u001b[0;34m:\u001b[0m\u001b[0;34m\u001b[0m\u001b[0m\n",
      "\u001b[0;32m~/anaconda3/lib/python3.6/site-packages/torchvision-0.2.1-py3.6.egg/torchvision/transforms/transforms.py\u001b[0m in \u001b[0;36m__call__\u001b[0;34m(self, pic)\u001b[0m\n\u001b[1;32m     74\u001b[0m             \u001b[0mTensor\u001b[0m\u001b[0;34m:\u001b[0m \u001b[0mConverted\u001b[0m \u001b[0mimage\u001b[0m\u001b[0;34m.\u001b[0m\u001b[0;34m\u001b[0m\u001b[0m\n\u001b[1;32m     75\u001b[0m         \"\"\"\n\u001b[0;32m---> 76\u001b[0;31m         \u001b[0;32mreturn\u001b[0m \u001b[0mF\u001b[0m\u001b[0;34m.\u001b[0m\u001b[0mto_tensor\u001b[0m\u001b[0;34m(\u001b[0m\u001b[0mpic\u001b[0m\u001b[0;34m)\u001b[0m\u001b[0;34m\u001b[0m\u001b[0m\n\u001b[0m\u001b[1;32m     77\u001b[0m \u001b[0;34m\u001b[0m\u001b[0m\n\u001b[1;32m     78\u001b[0m     \u001b[0;32mdef\u001b[0m \u001b[0m__repr__\u001b[0m\u001b[0;34m(\u001b[0m\u001b[0mself\u001b[0m\u001b[0;34m)\u001b[0m\u001b[0;34m:\u001b[0m\u001b[0;34m\u001b[0m\u001b[0m\n",
      "\u001b[0;32m~/anaconda3/lib/python3.6/site-packages/torchvision-0.2.1-py3.6.egg/torchvision/transforms/functional.py\u001b[0m in \u001b[0;36mto_tensor\u001b[0;34m(pic)\u001b[0m\n\u001b[1;32m     44\u001b[0m         \u001b[0;32mraise\u001b[0m \u001b[0mTypeError\u001b[0m\u001b[0;34m(\u001b[0m\u001b[0;34m'pic should be PIL Image or ndarray. Got {}'\u001b[0m\u001b[0;34m.\u001b[0m\u001b[0mformat\u001b[0m\u001b[0;34m(\u001b[0m\u001b[0mtype\u001b[0m\u001b[0;34m(\u001b[0m\u001b[0mpic\u001b[0m\u001b[0;34m)\u001b[0m\u001b[0;34m)\u001b[0m\u001b[0;34m)\u001b[0m\u001b[0;34m\u001b[0m\u001b[0m\n\u001b[1;32m     45\u001b[0m \u001b[0;34m\u001b[0m\u001b[0m\n\u001b[0;32m---> 46\u001b[0;31m     \u001b[0;32mif\u001b[0m \u001b[0misinstance\u001b[0m\u001b[0;34m(\u001b[0m\u001b[0mpic\u001b[0m\u001b[0;34m,\u001b[0m \u001b[0mnp\u001b[0m\u001b[0;34m.\u001b[0m\u001b[0mndarray\u001b[0m\u001b[0;34m)\u001b[0m\u001b[0;34m:\u001b[0m\u001b[0;34m\u001b[0m\u001b[0m\n\u001b[0m\u001b[1;32m     47\u001b[0m         \u001b[0;31m# handle numpy array\u001b[0m\u001b[0;34m\u001b[0m\u001b[0;34m\u001b[0m\u001b[0m\n\u001b[1;32m     48\u001b[0m         \u001b[0mimg\u001b[0m \u001b[0;34m=\u001b[0m \u001b[0mtorch\u001b[0m\u001b[0;34m.\u001b[0m\u001b[0mfrom_numpy\u001b[0m\u001b[0;34m(\u001b[0m\u001b[0mpic\u001b[0m\u001b[0;34m.\u001b[0m\u001b[0mtranspose\u001b[0m\u001b[0;34m(\u001b[0m\u001b[0;34m(\u001b[0m\u001b[0;36m2\u001b[0m\u001b[0;34m,\u001b[0m \u001b[0;36m0\u001b[0m\u001b[0;34m,\u001b[0m \u001b[0;36m1\u001b[0m\u001b[0;34m)\u001b[0m\u001b[0;34m)\u001b[0m\u001b[0;34m)\u001b[0m\u001b[0;34m\u001b[0m\u001b[0m\n",
      "\u001b[0;31mKeyboardInterrupt\u001b[0m: "
     ]
    }
   ],
   "source": [
    "def full_test_Decoder(model,optimizer,epochs = 2):\n",
    "    model = model.to(device=device)  # move the model parameters to CPU/GPU\n",
    "    for e in range(epochs):\n",
    "        for t, (x, _) in enumerate(loader_train):\n",
    "            model.train()  # put model to training mode\n",
    "            y = x.clone()\n",
    "            \n",
    "            x = x.to(device=device, dtype=dtype)  # move to device, e.g. GPU\n",
    "            y = y.to(device=device, dtype=dtype)\n",
    "\n",
    "            reconstruction = model(x)\n",
    "            loss = nn.MSELoss(size_average=False)(reconstruction, y)\n",
    "\n",
    "            # Zero out all of the gradients for the variables which the optimizer\n",
    "            # will update.\n",
    "            optimizer.zero_grad()\n",
    "\n",
    "            # This is the backwards pass: compute the gradient of the loss with\n",
    "            # respect to each  parameter of the model.\n",
    "            loss.backward()\n",
    "\n",
    "            # Actually update the parameters of the model using the gradients\n",
    "            # computed by the backwards pass.\n",
    "            optimizer.step()\n",
    "\n",
    "            if t % print_every == 0:\n",
    "                print('Iteration %d, loss = %.4f' % (t, loss.item()))\n",
    "                print()\n",
    "modelDecTest = layers.DecoderTest(s_encoder, SZ_Decoder())\n",
    "optimizerDecTest = get_optimizer(modelDecTest)\n",
    "full_test_Decoder(modelDecTest,optimizerDecTest,50)"
   ]
  },
  {
   "cell_type": "code",
   "execution_count": 18,
   "metadata": {},
   "outputs": [
    {
     "name": "stdout",
     "output_type": "stream",
     "text": [
      "torch.Size([1, 1, 28, 28])\n",
      "(784,) (784,)\n"
     ]
    },
    {
     "name": "stderr",
     "output_type": "stream",
     "text": [
      "/home/qheldiv/anaconda3/lib/python3.6/site-packages/torch/nn/functional.py:1749: UserWarning: Default upsampling behavior when mode=bilinear is changed to align_corners=False since 0.4.0. Please specify align_corners=True if the old behavior is desired. See the documentation of nn.Upsample for details.\n",
      "  \"See the documentation of nn.Upsample for details.\".format(mode))\n"
     ]
    },
    {
     "data": {
      "image/png": "[encoded data removed]",
      "text/plain": [
       "<matplotlib.figure.Figure at 0x7f6a7e37bfd0>"
      ]
     },
     "metadata": {},
     "output_type": "display_data"
    }
   ],
   "source": [
    "img=imgs[0]\n",
    "imgr=torch.tensor(img.reshape(1,1,28,28))\n",
    "print(imgr.shape)\n",
    "imgr = imgr.to(device=device,dtype=dtype)\n",
    "imgo = modelDecTest(imgr)\n",
    "imgo = imgo.view(28*28).cpu().detach().numpy()\n",
    "print(img.shape,imgo.shape)\n",
    "show_images(np.array([imgs[i] for i in range(20)]))"
   ]
  },
  {
   "cell_type": "code",
   "execution_count": 65,
   "metadata": {},
   "outputs": [
    {
     "data": {
      "image/png": "[encoded data removed]",
      "text/plain": [
       "<matplotlib.figure.Figure at 0x7f6a75e89cf8>"
      ]
     },
     "metadata": {},
     "output_type": "display_data"
    }
   ],
   "source": [
    "img_stat = [[] for i in range(params.classes_num)]\n",
    "for it, (xbat,ybat) in enumerate(loader_test):\n",
    "    for i in range(len(ybat)):\n",
    "        x = xbat[i]\n",
    "        y = ybat[i]\n",
    "        img_stat[y.item()].append( x.view(img_size*imgs_size) )\n",
    "#print([img_stat[0][i].view(784) for i in range(20)])\n",
    "showed = [img_stat[2][i] for i in range(20)]\n",
    "showed += [img_stat[6][i] for i in range(20)]\n",
    "torch.stack(showed)\n",
    "show_images(torch.stack(showed))"
   ]
  },
  {
   "cell_type": "code",
   "execution_count": 135,
   "metadata": {
    "collapsed": true
   },
   "outputs": [],
   "source": [
    "inter_img1 = img_stat[2][18].view(1,img_channel,img_size,img_size)\n",
    "inter_img2 = img_stat[6][10].view(1,img_channel,img_size,img_size)\n",
    "inter_img1 = inter_img1.to(device=device,dtype=dtype)\n",
    "inter_img2 = inter_img2.to(device=device,dtype=dtype)\n",
    "def show_interpolated(disent_net, inter_step = 4):\n",
    "    #s_encoder is precomputed\n",
    "    z_encoder = disent_net.get_z_encoder()\n",
    "    decoder   = disent_net.get_decoder()\n",
    "    \n",
    "\n",
    "    s_lat1 = s_encoder(inter_img1)\n",
    "    z_lat1 = z_encoder(inter_img1)\n",
    "    s_lat2 = s_encoder(inter_img2)\n",
    "    z_lat2 = z_encoder(inter_img2)\n",
    "    \n",
    "    weights = np.arange(0,1,1/(inter_step-1))\n",
    "    weights = np.append(weights,1.)\n",
    "    weights = torch.tensor(weights)\n",
    "    weights = weights.to(device=device,dtype=dtype)\n",
    "    \n",
    "    print(z_lat1,z_lat2)\n",
    "    \n",
    "    img_lists = []\n",
    "    for row_w in weights:\n",
    "        for col_w in weights:\n",
    "            s_latent = row_w * s_lat1 + (1-row_w)*s_lat2\n",
    "            z_latent = col_w * z_lat1 + (1-col_w)*z_lat2\n",
    "            latent = torch.cat((s_latent,z_latent),dim=1)\n",
    "            recon  = decoder(latent)\n",
    "            img_lists.append(recon.view( img_size*img_size ) )\n",
    "    \n",
    "    show_images(torch.stack(img_lists).detach().cpu().numpy())"
   ]
  },
  {
   "cell_type": "code",
   "execution_count": null,
   "metadata": {
    "collapsed": true
   },
   "outputs": [],
   "source": []
  },
  {
   "cell_type": "code",
   "execution_count": 172,
   "metadata": {},
   "outputs": [],
   "source": [
    "def train_DisAdvNet(adv_net, adv_solver, disent_net, disent_solver, s_enc, z_enc, sz_dec, z_adv, epochs=1):\n",
    "    \"\"\"\n",
    "    Train DisAdvNet on MNIST .\n",
    "    \n",
    "    Inputs:\n",
    "    - model: the enc-classifier \n",
    "    - optimizer: An Optimizer object we will use to train the model\n",
    "    - epochs: (Optional) A Python integer giving the number of epochs to train for\n",
    "    \n",
    "    Returns: Nothing, but prints model accuracies during training.\n",
    "    \"\"\"\n",
    "    recon_w = params.recon_w\n",
    "    adv_w = params.adv_w\n",
    "    \n",
    "    \n",
    "    show_every = 1000\n",
    "    adv_net = adv_net.to(device=device) # move the model parameters to device\n",
    "    disent_net = disent_net.to(device=device) # move the model parameters to device\n",
    "    iter_count = 1\n",
    "    adv_disent_ratio = params.adv_disent_ratio\n",
    "    \n",
    "    disent_loss = 1000000.\n",
    "    adv_loss = 1000000.\n",
    "    \n",
    "    for epoch in range(epochs):\n",
    "        for it, (x,y) in enumerate(loader_train):\n",
    "            \n",
    "            x = x.to(device=device, dtype=dtype)\n",
    "            y = y.to(device=device, dtype=torch.long)\n",
    "\n",
    "            ############ train disentangle net\n",
    "            if iter_count % (adv_disent_ratio+1)==0:\n",
    "                \n",
    "                layers.set_trainable(s_enc,False)\n",
    "                layers.set_trainable(z_enc,True)\n",
    "                layers.set_trainable(sz_dec,True)\n",
    "                layers.set_trainable(z_adv,False)\n",
    "                \n",
    "                disent_solver.zero_grad()\n",
    "                \n",
    "                \n",
    "                s_latent = s_enc(x)\n",
    "                x_reconstructed = disent_net(s_latent,x)\n",
    "                reconloss = F.mse_loss(x_reconstructed, x, size_average=True)\n",
    "                \n",
    "                scores = adv_net(x)\n",
    "                advloss   = F.cross_entropy(scores, y)\n",
    "                \n",
    "                disent_loss = recon_w * reconloss + adv_w * advloss\n",
    "                \n",
    "                disent_loss.backward()\n",
    "                disent_solver.step()\n",
    "                \n",
    "                z_enc_test = disent_net.get_decoder()\n",
    "\n",
    "\n",
    "            else:\n",
    "            ############# train adv net\n",
    "                layers.set_trainable(s_enc,False)\n",
    "                layers.set_trainable(z_enc,False)\n",
    "                layers.set_trainable(sz_dec,False)\n",
    "                layers.set_trainable(z_adv,True)\n",
    "                \n",
    "                adv_solver.zero_grad()\n",
    "                \n",
    "                scores = adv_net(x)\n",
    "                adv_loss   = F.cross_entropy(scores, y)\n",
    "                \n",
    "                adv_loss.backward()\n",
    "                adv_solver.step()\n",
    "                \n",
    "\n",
    "            \n",
    "\n",
    "            if (iter_count % show_every == 0):\n",
    "                print('Iter: {}, adv_loss: {:.4}, disent_loss:{:.4}'.format(iter_count, adv_loss, disent_loss))\n",
    "                show_interpolated(disent_net)\n",
    "                plt.show()\n",
    "                print()\n",
    "            iter_count += 1\n",
    "            "
   ]
  },
  {
   "cell_type": "code",
   "execution_count": 173,
   "metadata": {},
   "outputs": [
    {
     "name": "stderr",
     "output_type": "stream",
     "text": [
      "/home/qheldiv/anaconda3/lib/python3.6/site-packages/torch/nn/functional.py:1749: UserWarning: Default upsampling behavior when mode=bilinear is changed to align_corners=False since 0.4.0. Please specify align_corners=True if the old behavior is desired. See the documentation of nn.Upsample for details.\n",
      "  \"See the documentation of nn.Upsample for details.\".format(mode))\n"
     ]
    },
    {
     "name": "stdout",
     "output_type": "stream",
     "text": [
      "Iter: 1000, adv_loss: 1.893, disent_loss:-18.74\n",
      "tensor([[ 0.6744,  0.0000,  0.3154,  0.0000,  0.0000,  0.0000,  0.0000,\n",
      "          0.0000,  0.0168,  0.0000,  0.0000,  0.0590,  0.0000,  0.2156,\n",
      "          0.1128,  0.0000]], device='cuda:0') tensor([[ 0.4057,  0.0000,  0.0000,  0.0000,  0.0000,  0.0000,  0.0000,\n",
      "          0.0000,  0.0000,  0.0000,  0.0000,  0.0000,  0.0000,  0.0000,\n",
      "          0.0381,  0.0000]], device='cuda:0')\n"
     ]
    },
    {
     "data": {
      "image/png": "[encoded data removed]",
      "text/plain": [
       "<matplotlib.figure.Figure at 0x7f6a7212bba8>"
      ]
     },
     "metadata": {},
     "output_type": "display_data"
    },
    {
     "name": "stdout",
     "output_type": "stream",
     "text": [
      "\n",
      "Iter: 2000, adv_loss: 1.804, disent_loss:-17.7\n",
      "tensor([[ 0.6744,  0.0000,  0.3154,  0.0000,  0.0000,  0.0000,  0.0000,\n",
      "          0.0000,  0.0168,  0.0000,  0.0000,  0.0590,  0.0000,  0.2156,\n",
      "          0.1128,  0.0000]], device='cuda:0') tensor([[ 0.4057,  0.0000,  0.0000,  0.0000,  0.0000,  0.0000,  0.0000,\n",
      "          0.0000,  0.0000,  0.0000,  0.0000,  0.0000,  0.0000,  0.0000,\n",
      "          0.0381,  0.0000]], device='cuda:0')\n"
     ]
    },
    {
     "data": {
      "image/png": "[encoded data removed]",
      "text/plain": [
       "<matplotlib.figure.Figure at 0x7f6a75648ef0>"
      ]
     },
     "metadata": {},
     "output_type": "display_data"
    },
    {
     "name": "stdout",
     "output_type": "stream",
     "text": [
      "\n",
      "Iter: 3000, adv_loss: 1.824, disent_loss:-17.42\n",
      "tensor([[ 0.6744,  0.0000,  0.3154,  0.0000,  0.0000,  0.0000,  0.0000,\n",
      "          0.0000,  0.0168,  0.0000,  0.0000,  0.0590,  0.0000,  0.2156,\n",
      "          0.1128,  0.0000]], device='cuda:0') tensor([[ 0.4057,  0.0000,  0.0000,  0.0000,  0.0000,  0.0000,  0.0000,\n",
      "          0.0000,  0.0000,  0.0000,  0.0000,  0.0000,  0.0000,  0.0000,\n",
      "          0.0381,  0.0000]], device='cuda:0')\n"
     ]
    },
    {
     "data": {
      "image/png": "[encoded data removed]",
      "text/plain": [
       "<matplotlib.figure.Figure at 0x7f6a75a4c4a8>"
      ]
     },
     "metadata": {},
     "output_type": "display_data"
    },
    {
     "name": "stdout",
     "output_type": "stream",
     "text": [
      "\n",
      "Iter: 4000, adv_loss: 1.711, disent_loss:-16.79\n",
      "tensor([[ 0.6744,  0.0000,  0.3154,  0.0000,  0.0000,  0.0000,  0.0000,\n",
      "          0.0000,  0.0168,  0.0000,  0.0000,  0.0590,  0.0000,  0.2156,\n",
      "          0.1128,  0.0000]], device='cuda:0') tensor([[ 0.4057,  0.0000,  0.0000,  0.0000,  0.0000,  0.0000,  0.0000,\n",
      "          0.0000,  0.0000,  0.0000,  0.0000,  0.0000,  0.0000,  0.0000,\n",
      "          0.0381,  0.0000]], device='cuda:0')\n"
     ]
    },
    {
     "data": {
      "image/png": "[encoded data removed]",
      "text/plain": [
       "<matplotlib.figure.Figure at 0x7f6a5c488eb8>"
      ]
     },
     "metadata": {},
     "output_type": "display_data"
    },
    {
     "name": "stdout",
     "output_type": "stream",
     "text": [
      "\n",
      "Iter: 5000, adv_loss: 1.594, disent_loss:-18.55\n",
      "tensor([[ 0.6744,  0.0000,  0.3154,  0.0000,  0.0000,  0.0000,  0.0000,\n",
      "          0.0000,  0.0168,  0.0000,  0.0000,  0.0590,  0.0000,  0.2156,\n",
      "          0.1128,  0.0000]], device='cuda:0') tensor([[ 0.4057,  0.0000,  0.0000,  0.0000,  0.0000,  0.0000,  0.0000,\n",
      "          0.0000,  0.0000,  0.0000,  0.0000,  0.0000,  0.0000,  0.0000,\n",
      "          0.0381,  0.0000]], device='cuda:0')\n"
     ]
    },
    {
     "data": {
      "image/png": "[encoded data removed]",
      "text/plain": [
       "<matplotlib.figure.Figure at 0x7f6a6417ec50>"
      ]
     },
     "metadata": {},
     "output_type": "display_data"
    },
    {
     "name": "stdout",
     "output_type": "stream",
     "text": [
      "\n",
      "Iter: 6000, adv_loss: 1.634, disent_loss:-17.06\n",
      "tensor([[ 0.6744,  0.0000,  0.3154,  0.0000,  0.0000,  0.0000,  0.0000,\n",
      "          0.0000,  0.0168,  0.0000,  0.0000,  0.0590,  0.0000,  0.2156,\n",
      "          0.1128,  0.0000]], device='cuda:0') tensor([[ 0.4057,  0.0000,  0.0000,  0.0000,  0.0000,  0.0000,  0.0000,\n",
      "          0.0000,  0.0000,  0.0000,  0.0000,  0.0000,  0.0000,  0.0000,\n",
      "          0.0381,  0.0000]], device='cuda:0')\n"
     ]
    },
    {
     "data": {
      "image/png": "[encoded data removed]",
      "text/plain": [
       "<matplotlib.figure.Figure at 0x7f6a5c487e80>"
      ]
     },
     "metadata": {},
     "output_type": "display_data"
    },
    {
     "name": "stdout",
     "output_type": "stream",
     "text": [
      "\n",
      "Iter: 7000, adv_loss: 1.544, disent_loss:-17.42\n",
      "tensor([[ 0.6744,  0.0000,  0.3154,  0.0000,  0.0000,  0.0000,  0.0000,\n",
      "          0.0000,  0.0168,  0.0000,  0.0000,  0.0590,  0.0000,  0.2156,\n",
      "          0.1128,  0.0000]], device='cuda:0') tensor([[ 0.4057,  0.0000,  0.0000,  0.0000,  0.0000,  0.0000,  0.0000,\n",
      "          0.0000,  0.0000,  0.0000,  0.0000,  0.0000,  0.0000,  0.0000,\n",
      "          0.0381,  0.0000]], device='cuda:0')\n"
     ]
    },
    {
     "data": {
      "image/png": "[encoded data removed]",
      "text/plain": [
       "<matplotlib.figure.Figure at 0x7f6a760a72b0>"
      ]
     },
     "metadata": {},
     "output_type": "display_data"
    },
    {
     "name": "stdout",
     "output_type": "stream",
     "text": [
      "\n",
      "Iter: 8000, adv_loss: 1.635, disent_loss:-13.92\n",
      "tensor([[ 0.6744,  0.0000,  0.3154,  0.0000,  0.0000,  0.0000,  0.0000,\n",
      "          0.0000,  0.0168,  0.0000,  0.0000,  0.0590,  0.0000,  0.2156,\n",
      "          0.1128,  0.0000]], device='cuda:0') tensor([[ 0.4057,  0.0000,  0.0000,  0.0000,  0.0000,  0.0000,  0.0000,\n",
      "          0.0000,  0.0000,  0.0000,  0.0000,  0.0000,  0.0000,  0.0000,\n",
      "          0.0381,  0.0000]], device='cuda:0')\n"
     ]
    },
    {
     "data": {
      "image/png": "[encoded data removed]",
      "text/plain": [
       "<matplotlib.figure.Figure at 0x7f6a5c1d31d0>"
      ]
     },
     "metadata": {},
     "output_type": "display_data"
    },
    {
     "name": "stdout",
     "output_type": "stream",
     "text": [
      "\n",
      "Iter: 9000, adv_loss: 1.48, disent_loss:-14.61\n",
      "tensor([[ 0.6744,  0.0000,  0.3154,  0.0000,  0.0000,  0.0000,  0.0000,\n",
      "          0.0000,  0.0168,  0.0000,  0.0000,  0.0590,  0.0000,  0.2156,\n",
      "          0.1128,  0.0000]], device='cuda:0') tensor([[ 0.4057,  0.0000,  0.0000,  0.0000,  0.0000,  0.0000,  0.0000,\n",
      "          0.0000,  0.0000,  0.0000,  0.0000,  0.0000,  0.0000,  0.0000,\n",
      "          0.0381,  0.0000]], device='cuda:0')\n"
     ]
    },
    {
     "data": {
      "image/png": "[encoded data removed]",
      "text/plain": [
       "<matplotlib.figure.Figure at 0x7f6a75d525f8>"
      ]
     },
     "metadata": {},
     "output_type": "display_data"
    },
    {
     "name": "stdout",
     "output_type": "stream",
     "text": [
      "\n",
      "Iter: 10000, adv_loss: 1.382, disent_loss:-16.66\n",
      "tensor([[ 0.6744,  0.0000,  0.3154,  0.0000,  0.0000,  0.0000,  0.0000,\n",
      "          0.0000,  0.0168,  0.0000,  0.0000,  0.0590,  0.0000,  0.2156,\n",
      "          0.1128,  0.0000]], device='cuda:0') tensor([[ 0.4057,  0.0000,  0.0000,  0.0000,  0.0000,  0.0000,  0.0000,\n",
      "          0.0000,  0.0000,  0.0000,  0.0000,  0.0000,  0.0000,  0.0000,\n",
      "          0.0381,  0.0000]], device='cuda:0')\n"
     ]
    },
    {
     "data": {
      "image/png": "[encoded data removed]",
      "text/plain": [
       "<matplotlib.figure.Figure at 0x7f6a72265cc0>"
      ]
     },
     "metadata": {},
     "output_type": "display_data"
    },
    {
     "name": "stdout",
     "output_type": "stream",
     "text": [
      "\n",
      "Iter: 11000, adv_loss: 1.552, disent_loss:-13.08\n",
      "tensor([[ 0.6744,  0.0000,  0.3154,  0.0000,  0.0000,  0.0000,  0.0000,\n",
      "          0.0000,  0.0168,  0.0000,  0.0000,  0.0590,  0.0000,  0.2156,\n",
      "          0.1128,  0.0000]], device='cuda:0') tensor([[ 0.4057,  0.0000,  0.0000,  0.0000,  0.0000,  0.0000,  0.0000,\n",
      "          0.0000,  0.0000,  0.0000,  0.0000,  0.0000,  0.0000,  0.0000,\n",
      "          0.0381,  0.0000]], device='cuda:0')\n"
     ]
    },
    {
     "data": {
      "image/png": "[encoded data removed]",
      "text/plain": [
       "<matplotlib.figure.Figure at 0x7f6a6c0a3c18>"
      ]
     },
     "metadata": {},
     "output_type": "display_data"
    },
    {
     "name": "stdout",
     "output_type": "stream",
     "text": [
      "\n",
      "Iter: 12000, adv_loss: 1.526, disent_loss:-14.99\n",
      "tensor([[ 0.6744,  0.0000,  0.3154,  0.0000,  0.0000,  0.0000,  0.0000,\n",
      "          0.0000,  0.0168,  0.0000,  0.0000,  0.0590,  0.0000,  0.2156,\n",
      "          0.1128,  0.0000]], device='cuda:0') tensor([[ 0.4057,  0.0000,  0.0000,  0.0000,  0.0000,  0.0000,  0.0000,\n",
      "          0.0000,  0.0000,  0.0000,  0.0000,  0.0000,  0.0000,  0.0000,\n",
      "          0.0381,  0.0000]], device='cuda:0')\n"
     ]
    },
    {
     "data": {
      "image/png": "[encoded data removed]",
      "text/plain": [
       "<matplotlib.figure.Figure at 0x7f6a75a59ef0>"
      ]
     },
     "metadata": {},
     "output_type": "display_data"
    },
    {
     "name": "stdout",
     "output_type": "stream",
     "text": [
      "\n",
      "Iter: 13000, adv_loss: 1.524, disent_loss:-15.93\n",
      "tensor([[ 0.6744,  0.0000,  0.3154,  0.0000,  0.0000,  0.0000,  0.0000,\n",
      "          0.0000,  0.0168,  0.0000,  0.0000,  0.0590,  0.0000,  0.2156,\n",
      "          0.1128,  0.0000]], device='cuda:0') tensor([[ 0.4057,  0.0000,  0.0000,  0.0000,  0.0000,  0.0000,  0.0000,\n",
      "          0.0000,  0.0000,  0.0000,  0.0000,  0.0000,  0.0000,  0.0000,\n",
      "          0.0381,  0.0000]], device='cuda:0')\n"
     ]
    },
    {
     "data": {
      "image/png": "[encoded data removed]",
      "text/plain": [
       "<matplotlib.figure.Figure at 0x7f6a760a7978>"
      ]
     },
     "metadata": {},
     "output_type": "display_data"
    },
    {
     "name": "stdout",
     "output_type": "stream",
     "text": [
      "\n",
      "Iter: 14000, adv_loss: 1.517, disent_loss:-14.18\n",
      "tensor([[ 0.6744,  0.0000,  0.3154,  0.0000,  0.0000,  0.0000,  0.0000,\n",
      "          0.0000,  0.0168,  0.0000,  0.0000,  0.0590,  0.0000,  0.2156,\n",
      "          0.1128,  0.0000]], device='cuda:0') tensor([[ 0.4057,  0.0000,  0.0000,  0.0000,  0.0000,  0.0000,  0.0000,\n",
      "          0.0000,  0.0000,  0.0000,  0.0000,  0.0000,  0.0000,  0.0000,\n",
      "          0.0381,  0.0000]], device='cuda:0')\n"
     ]
    },
    {
     "data": {
      "image/png": "[encoded data removed]",
      "text/plain": [
       "<matplotlib.figure.Figure at 0x7f6a642f7358>"
      ]
     },
     "metadata": {},
     "output_type": "display_data"
    },
    {
     "name": "stdout",
     "output_type": "stream",
     "text": [
      "\n",
      "Iter: 15000, adv_loss: 1.452, disent_loss:-12.54\n",
      "tensor([[ 0.6744,  0.0000,  0.3154,  0.0000,  0.0000,  0.0000,  0.0000,\n",
      "          0.0000,  0.0168,  0.0000,  0.0000,  0.0590,  0.0000,  0.2156,\n",
      "          0.1128,  0.0000]], device='cuda:0') tensor([[ 0.4057,  0.0000,  0.0000,  0.0000,  0.0000,  0.0000,  0.0000,\n",
      "          0.0000,  0.0000,  0.0000,  0.0000,  0.0000,  0.0000,  0.0000,\n",
      "          0.0381,  0.0000]], device='cuda:0')\n"
     ]
    },
    {
     "data": {
      "image/png": "[encoded data removed]",
      "text/plain": [
       "<matplotlib.figure.Figure at 0x7f6a5c349e48>"
      ]
     },
     "metadata": {},
     "output_type": "display_data"
    },
    {
     "name": "stdout",
     "output_type": "stream",
     "text": [
      "\n",
      "Iter: 16000, adv_loss: 1.486, disent_loss:-17.34\n",
      "tensor([[ 0.6744,  0.0000,  0.3154,  0.0000,  0.0000,  0.0000,  0.0000,\n",
      "          0.0000,  0.0168,  0.0000,  0.0000,  0.0590,  0.0000,  0.2156,\n",
      "          0.1128,  0.0000]], device='cuda:0') tensor([[ 0.4057,  0.0000,  0.0000,  0.0000,  0.0000,  0.0000,  0.0000,\n",
      "          0.0000,  0.0000,  0.0000,  0.0000,  0.0000,  0.0000,  0.0000,\n",
      "          0.0381,  0.0000]], device='cuda:0')\n"
     ]
    },
    {
     "data": {
      "image/png": "[encoded data removed]",
      "text/plain": [
       "<matplotlib.figure.Figure at 0x7f6a75d5f128>"
      ]
     },
     "metadata": {},
     "output_type": "display_data"
    },
    {
     "name": "stdout",
     "output_type": "stream",
     "text": [
      "\n",
      "Iter: 17000, adv_loss: 1.51, disent_loss:-14.56\n",
      "tensor([[ 0.6744,  0.0000,  0.3154,  0.0000,  0.0000,  0.0000,  0.0000,\n",
      "          0.0000,  0.0168,  0.0000,  0.0000,  0.0590,  0.0000,  0.2156,\n",
      "          0.1128,  0.0000]], device='cuda:0') tensor([[ 0.4057,  0.0000,  0.0000,  0.0000,  0.0000,  0.0000,  0.0000,\n",
      "          0.0000,  0.0000,  0.0000,  0.0000,  0.0000,  0.0000,  0.0000,\n",
      "          0.0381,  0.0000]], device='cuda:0')\n"
     ]
    },
    {
     "data": {
      "image/png": "[encoded data removed]",
      "text/plain": [
       "<matplotlib.figure.Figure at 0x7f6a75c29ba8>"
      ]
     },
     "metadata": {},
     "output_type": "display_data"
    },
    {
     "name": "stdout",
     "output_type": "stream",
     "text": [
      "\n",
      "Iter: 18000, adv_loss: 1.475, disent_loss:-12.77\n",
      "tensor([[ 0.6744,  0.0000,  0.3154,  0.0000,  0.0000,  0.0000,  0.0000,\n",
      "          0.0000,  0.0168,  0.0000,  0.0000,  0.0590,  0.0000,  0.2156,\n",
      "          0.1128,  0.0000]], device='cuda:0') tensor([[ 0.4057,  0.0000,  0.0000,  0.0000,  0.0000,  0.0000,  0.0000,\n",
      "          0.0000,  0.0000,  0.0000,  0.0000,  0.0000,  0.0000,  0.0000,\n",
      "          0.0381,  0.0000]], device='cuda:0')\n"
     ]
    },
    {
     "data": {
      "image/png": "[encoded data removed]",
      "text/plain": [
       "<matplotlib.figure.Figure at 0x7f6a6c0a99b0>"
      ]
     },
     "metadata": {},
     "output_type": "display_data"
    },
    {
     "name": "stdout",
     "output_type": "stream",
     "text": [
      "\n",
      "Iter: 19000, adv_loss: 1.373, disent_loss:-12.88\n",
      "tensor([[ 0.6744,  0.0000,  0.3154,  0.0000,  0.0000,  0.0000,  0.0000,\n",
      "          0.0000,  0.0168,  0.0000,  0.0000,  0.0590,  0.0000,  0.2156,\n",
      "          0.1128,  0.0000]], device='cuda:0') tensor([[ 0.4057,  0.0000,  0.0000,  0.0000,  0.0000,  0.0000,  0.0000,\n",
      "          0.0000,  0.0000,  0.0000,  0.0000,  0.0000,  0.0000,  0.0000,\n",
      "          0.0381,  0.0000]], device='cuda:0')\n"
     ]
    },
    {
     "data": {
      "image/png": "[encoded data removed]",
      "text/plain": [
       "<matplotlib.figure.Figure at 0x7f6a75ef0f98>"
      ]
     },
     "metadata": {},
     "output_type": "display_data"
    },
    {
     "name": "stdout",
     "output_type": "stream",
     "text": [
      "\n"
     ]
    }
   ],
   "source": [
    "z_enc = Z_Encoder()\n",
    "z_adv = z_AdvLayer()\n",
    "sz_dec= SZ_Decoder()\n",
    "adv_net = layers.AdvNet(z_enc,z_adv)\n",
    "adv_solver = get_optimizer(adv_net)\n",
    "\n",
    "disent_net = layers.DisentNet(z_enc,sz_dec)\n",
    "disent_solver = get_optimizer(disent_net)\n",
    "\n",
    "disent_net = disent_net.to(device=device)\n",
    "train_DisAdvNet(adv_net, adv_solver, disent_net, disent_solver,  s_encoder, z_enc, sz_dec, z_adv,50)"
   ]
  },
  {
   "cell_type": "code",
   "execution_count": null,
   "metadata": {
    "collapsed": true
   },
   "outputs": [],
   "source": []
  },
  {
   "cell_type": "code",
   "execution_count": null,
   "metadata": {
    "collapsed": true
   },
   "outputs": [],
   "source": []
  }
 ],
 "metadata": {
  "kernelspec": {
   "display_name": "Python 3",
   "language": "python",
   "name": "python3"
  },
  "language_info": {
   "codemirror_mode": {
    "name": "ipython",
    "version": 3
   },
   "file_extension": ".py",
   "mimetype": "text/x-python",
   "name": "python",
   "nbconvert_exporter": "python",
   "pygments_lexer": "ipython3",
   "version": "3.6.2"
  }
 },
 "nbformat": 4,
 "nbformat_minor": 2
}
